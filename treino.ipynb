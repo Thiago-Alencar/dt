{
  "nbformat": 4,
  "nbformat_minor": 0,
  "metadata": {
    "colab": {
      "name": "treino.ipynb",
      "provenance": [],
      "authorship_tag": "ABX9TyNEKykE2IsbEGL0abT28ali",
      "include_colab_link": true
    },
    "kernelspec": {
      "name": "python3",
      "display_name": "Python 3"
    },
    "language_info": {
      "name": "python"
    }
  },
  "cells": [
    {
      "cell_type": "markdown",
      "metadata": {
        "id": "view-in-github",
        "colab_type": "text"
      },
      "source": [
        "<a href=\"https://colab.research.google.com/github/Thiago-Alencar/dt/blob/main/treino.ipynb\" target=\"_parent\"><img src=\"https://colab.research.google.com/assets/colab-badge.svg\" alt=\"Open In Colab\"/></a>"
      ]
    },
    {
      "cell_type": "code",
      "metadata": {
        "id": "IBDTovKqjJcp"
      },
      "source": [
        ""
      ],
      "execution_count": null,
      "outputs": []
    },
    {
      "cell_type": "code",
      "metadata": {
        "id": "tDHfeRLfVv-_"
      },
      "source": [
        "import pandas as pd"
      ],
      "execution_count": null,
      "outputs": []
    },
    {
      "cell_type": "code",
      "metadata": {
        "id": "OyVrPNINEQhQ"
      },
      "source": [
        "df = pd.read_csv(\"https://raw.githubusercontent.com/datasciencedojo/datasets/master/titanic.csv\")"
      ],
      "execution_count": null,
      "outputs": []
    },
    {
      "cell_type": "markdown",
      "metadata": {
        "id": "pPRs6vRXH6CF"
      },
      "source": [
        "##Estrutura de um dataframe"
      ]
    },
    {
      "cell_type": "code",
      "metadata": {
        "id": "3xUIhtTsEa-N"
      },
      "source": [
        "df.head()"
      ],
      "execution_count": null,
      "outputs": []
    },
    {
      "cell_type": "code",
      "metadata": {
        "id": "hg7wXblLEiWd"
      },
      "source": [
        "df.info()"
      ],
      "execution_count": null,
      "outputs": []
    },
    {
      "cell_type": "markdown",
      "metadata": {
        "id": "XGeoN_hxIrE6"
      },
      "source": [
        "indice"
      ]
    },
    {
      "cell_type": "code",
      "metadata": {
        "colab": {
          "base_uri": "https://localhost:8080/"
        },
        "id": "w5OP_VTJIuLL",
        "outputId": "7b00829d-6818-47f8-be24-77d7e1612962"
      },
      "source": [
        "df.index"
      ],
      "execution_count": null,
      "outputs": [
        {
          "output_type": "execute_result",
          "data": {
            "text/plain": [
              "RangeIndex(start=0, stop=891, step=1)"
            ]
          },
          "metadata": {
            "tags": []
          },
          "execution_count": 7
        }
      ]
    },
    {
      "cell_type": "markdown",
      "metadata": {
        "id": "auPLd0hpJhfZ"
      },
      "source": [
        "Alterando o índice do DataFrame"
      ]
    },
    {
      "cell_type": "code",
      "metadata": {
        "id": "jrlZMlDCJl_M"
      },
      "source": [
        "df.set_index('PassengerId', inplace=True)"
      ],
      "execution_count": null,
      "outputs": []
    },
    {
      "cell_type": "code",
      "metadata": {
        "id": "yx1xbEDDKADn"
      },
      "source": [
        "df.head()"
      ],
      "execution_count": null,
      "outputs": []
    },
    {
      "cell_type": "markdown",
      "metadata": {
        "id": "Hi_mScp5KHDo"
      },
      "source": [
        "Colunas"
      ]
    },
    {
      "cell_type": "code",
      "metadata": {
        "id": "lF8KtMK7KJkB"
      },
      "source": [
        "df.columns"
      ],
      "execution_count": null,
      "outputs": []
    },
    {
      "cell_type": "markdown",
      "metadata": {
        "id": "rpfrTCR2KUvZ"
      },
      "source": [
        "Valores"
      ]
    },
    {
      "cell_type": "code",
      "metadata": {
        "id": "tJ8OU5kpKWYa"
      },
      "source": [
        "df.values"
      ],
      "execution_count": null,
      "outputs": []
    },
    {
      "cell_type": "markdown",
      "metadata": {
        "id": "GLwbc0DdKcsd"
      },
      "source": [
        "Internamente o Pandas trata dados como Arrays Numpy!"
      ]
    },
    {
      "cell_type": "code",
      "metadata": {
        "id": "h_Dp8otBKmp-"
      },
      "source": [
        "type(df.values)"
      ],
      "execution_count": null,
      "outputs": []
    },
    {
      "cell_type": "markdown",
      "metadata": {
        "id": "ZngRiCoxLW_M"
      },
      "source": [
        "**DataFrames e Séries**\n",
        "\n",
        "\n",
        "*   Métodos diferentes\n",
        "*   N dimensões\n",
        "\n"
      ]
    },
    {
      "cell_type": "markdown",
      "metadata": {
        "id": "sZ4WzIuSLwDl"
      },
      "source": [
        "Consultado dados"
      ]
    },
    {
      "cell_type": "markdown",
      "metadata": {
        "id": "CcWqmJlBLy-i"
      },
      "source": [
        "Selecionar linhas pelo índice de valor \"1\""
      ]
    },
    {
      "cell_type": "code",
      "metadata": {
        "id": "MRU1K3E6L7mM"
      },
      "source": [
        "df.loc[[1]]"
      ],
      "execution_count": null,
      "outputs": []
    },
    {
      "cell_type": "code",
      "metadata": {
        "id": "ngPE2cl2PUaV"
      },
      "source": [
        "df.loc[1]"
      ],
      "execution_count": null,
      "outputs": []
    },
    {
      "cell_type": "code",
      "metadata": {
        "id": "JV7AYY_WOH4E"
      },
      "source": [
        "df.iloc[[0]]"
      ],
      "execution_count": null,
      "outputs": []
    },
    {
      "cell_type": "code",
      "metadata": {
        "id": "3zzseunuL-_e"
      },
      "source": [
        "type(df.loc[1])"
      ],
      "execution_count": null,
      "outputs": []
    },
    {
      "cell_type": "markdown",
      "metadata": {
        "id": "0EAGG-CwMEB1"
      },
      "source": [
        "Selecionar várias linhas usando o loc"
      ]
    },
    {
      "cell_type": "code",
      "metadata": {
        "id": "yFf73CmlMIN-"
      },
      "source": [
        "df.loc[[1,2,3]]"
      ],
      "execution_count": null,
      "outputs": []
    },
    {
      "cell_type": "markdown",
      "metadata": {
        "id": "x_DqiddIPmC8"
      },
      "source": [
        "Consultando dados usando Slice"
      ]
    },
    {
      "cell_type": "code",
      "metadata": {
        "id": "X0rw64KhPtT3"
      },
      "source": [
        "df.loc[10:20]"
      ],
      "execution_count": null,
      "outputs": []
    },
    {
      "cell_type": "code",
      "metadata": {
        "id": "jUyBtzOCRXla"
      },
      "source": [
        "#step 2\n",
        "df.loc[10:20:2]"
      ],
      "execution_count": null,
      "outputs": []
    },
    {
      "cell_type": "code",
      "metadata": {
        "id": "iW2Y96CARgLU"
      },
      "source": [
        "df.loc[10:]"
      ],
      "execution_count": null,
      "outputs": []
    },
    {
      "cell_type": "markdown",
      "metadata": {
        "id": "C8znKP0IQQIB"
      },
      "source": [
        "Selecionando linhas e colunas o loc"
      ]
    },
    {
      "cell_type": "code",
      "metadata": {
        "id": "pDvgvtFLRqMc"
      },
      "source": [
        "#df.loc[[linha1,linha2],[\"coluna1\",\"coluna2\",\"coluna3\"]]\n",
        "df.loc[[1,2],[\"Name\",\"Sex\",\"Age\"]]"
      ],
      "execution_count": null,
      "outputs": []
    },
    {
      "cell_type": "markdown",
      "metadata": {
        "id": "G6CHlu15XET7"
      },
      "source": [
        "Slice com linhas e selecionando colunas"
      ]
    },
    {
      "cell_type": "code",
      "metadata": {
        "id": "VdK3gDa4XMZy"
      },
      "source": [
        "df.loc[[1:10],[\"Name\",\"Sex\",\"Age\"]]"
      ],
      "execution_count": null,
      "outputs": []
    },
    {
      "cell_type": "markdown",
      "metadata": {
        "id": "911Fjp5oXVOs"
      },
      "source": [
        "Selecionando todas as linhas e apenas algumas colunas"
      ]
    },
    {
      "cell_type": "code",
      "metadata": {
        "id": "yEgc69tAXa7x"
      },
      "source": [
        "df.loc[:,[\"Name\",\"Sex\",\"Age\"]]"
      ],
      "execution_count": null,
      "outputs": []
    },
    {
      "cell_type": "markdown",
      "metadata": {
        "id": "N8hb0rhhXjPb"
      },
      "source": [
        "Trabalhando com o método query()"
      ]
    },
    {
      "cell_type": "code",
      "metadata": {
        "id": "VAQTEgdAYhU0"
      },
      "source": [
        "df.query(\"Age >20\").head()"
      ],
      "execution_count": null,
      "outputs": []
    },
    {
      "cell_type": "code",
      "metadata": {
        "id": "GXKjh808ZPBn"
      },
      "source": [
        "df.query('Age > 20 & Sex ==\"male\"').head(10)"
      ],
      "execution_count": null,
      "outputs": []
    },
    {
      "cell_type": "markdown",
      "metadata": {
        "id": "w1gJFaE_ZprM"
      },
      "source": [
        "Usando o operador OR"
      ]
    },
    {
      "cell_type": "code",
      "metadata": {
        "id": "AlhgVI6qaYOf"
      },
      "source": [
        "df.query('Age > 20 | Sex==\"male\"').head(10)"
      ],
      "execution_count": null,
      "outputs": []
    },
    {
      "cell_type": "markdown",
      "metadata": {
        "id": "oh4I7F-oaQX_"
      },
      "source": [
        "Operador in e o parámetro inplace"
      ]
    },
    {
      "cell_type": "code",
      "metadata": {
        "id": "9bdSxKInZt_9"
      },
      "source": [
        "df.query('Embarked in [\"C\",\"Q\"]',inplace=True)# inplace Altera o dataframe em memoria"
      ],
      "execution_count": null,
      "outputs": []
    },
    {
      "cell_type": "code",
      "metadata": {
        "id": "QAdcEo28amJb"
      },
      "source": [
        "df.head()"
      ],
      "execution_count": null,
      "outputs": []
    },
    {
      "cell_type": "code",
      "metadata": {
        "id": "7jeuLTkkcNZc"
      },
      "source": [
        ""
      ],
      "execution_count": null,
      "outputs": []
    },
    {
      "cell_type": "markdown",
      "metadata": {
        "id": "tpjbAYeJcIJS"
      },
      "source": [
        "Filtrado dados tipo object"
      ]
    },
    {
      "cell_type": "code",
      "metadata": {
        "id": "h6z_UX67ctQE"
      },
      "source": [
        "df.select_dtypes(include=['object'])"
      ],
      "execution_count": null,
      "outputs": []
    },
    {
      "cell_type": "markdown",
      "metadata": {
        "id": "Q3GvB58CGOIm"
      },
      "source": [
        "\n",
        "\n",
        "* pd.read_csv- Ler dados de um arquivo CSV em um DataFrameobjeto Pandas\n",
        "* info() - Ver informações básicas sobre linhas, colunas e tipos de dados\n",
        "* describe() - Ver informações estatísticas sobre colunas numéricas\n",
        "* columns - Obtenha a lista de nomes de coluna\n",
        "* shape - Obtenha o número de linhas e colunas como uma tupla\n",
        "* covid_df['new_cases']- Recuperando colunas como um Seriesusando o nome da coluna\n",
        "* new_cases[243]- Recuperando valores de um Seriesusando um índice\n",
        "* covid_df.at[243, 'new_cases'] - Recuperação de um único valor de um quadro de dados\n",
        "* covid_df.copy() - Criação de uma cópia profunda de um quadro de dados\n",
        "* covid_df.loc[243] - Recuperação de uma linha ou intervalo de linhas de dados do quadro de dados\n",
        "* head, tailE sample- Recuperando várias linhas de dados a partir do quadro de dados\n",
        "* covid_df.new_tests.first_valid_index - Encontrar o primeiro índice não vazio de uma série\n",
        "* covid_df.new_cases.sum() - Calculando a soma dos valores em uma coluna ou série\n",
        "* covid_df[covid_df.new_cases > 1000] - Consulta a um subconjunto de linhas que satisfazem os critérios escolhidos usando expressões booleanas\n",
        "* df['pos_rate'] = df.new_cases/df.new_tests - Adicionar novas colunas combinando dados de colunas existentes\n",
        "* covid_df.drop('positive_rate') - Removendo uma ou mais colunas do quadro de dados\n",
        "* sort_values - Classificando as linhas de um quadro de dados usando valores de coluna\n",
        "* covid_df.at[172, 'new_cases'] = ... - Substituindo um valor dentro do quadro de dados\n",
        "* Para gravar os dados do quadro de dados em um arquivo, podemos usar a to_csv  : resultado_df.to_csv('results.csv', index=None)\n",
        "\n",
        "\n",
        "\n",
        "---\n",
        "\n"
      ]
    },
    {
      "cell_type": "markdown",
      "metadata": {
        "id": "WdIz1ABKc0ew"
      },
      "source": [
        "##Analisando um DataFrame com Profiling"
      ]
    },
    {
      "cell_type": "code",
      "metadata": {
        "id": "PtHTJAKQeEpr"
      },
      "source": [
        "\n",
        "import pandas_profiling"
      ],
      "execution_count": null,
      "outputs": []
    },
    {
      "cell_type": "code",
      "metadata": {
        "id": "Bf2Z5A0oelQr"
      },
      "source": [
        "from pandas_profiling import ProfileReport"
      ],
      "execution_count": null,
      "outputs": []
    },
    {
      "cell_type": "code",
      "metadata": {
        "id": "MUDMstAhjdHT"
      },
      "source": [
        "#Criando modelo de relatorio\n",
        "profile = ProfileReport(df, title='Relatorio', html={'style':{'full_width':True}})\n"
      ],
      "execution_count": null,
      "outputs": []
    },
    {
      "cell_type": "code",
      "metadata": {
        "id": "_VC7qZbLnD89"
      },
      "source": [
        "#Visualisando modelo\n",
        "profile.to_notebook_iframe()"
      ],
      "execution_count": null,
      "outputs": []
    },
    {
      "cell_type": "code",
      "metadata": {
        "id": "-IEnh-ucnoc6"
      },
      "source": [
        "#Exporta Relatorio\n",
        "profile.to_file(output_file='Relatorio Base de Dados.html')"
      ],
      "execution_count": null,
      "outputs": []
    },
    {
      "cell_type": "markdown",
      "metadata": {
        "id": "iAui-cjNGKZo"
      },
      "source": [
        ""
      ]
    }
  ]
}