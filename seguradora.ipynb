{
  "nbformat": 4,
  "nbformat_minor": 0,
  "metadata": {
    "colab": {
      "name": "seguradora.ipynb",
      "provenance": [],
      "authorship_tag": "ABX9TyPaRQu02vbGQtCunCCrnR52",
      "include_colab_link": true
    },
    "kernelspec": {
      "name": "python3",
      "display_name": "Python 3"
    },
    "language_info": {
      "name": "python"
    }
  },
  "cells": [
    {
      "cell_type": "markdown",
      "metadata": {
        "id": "view-in-github",
        "colab_type": "text"
      },
      "source": [
        "<a href=\"https://colab.research.google.com/github/Thiago-Alencar/dt/blob/main/seguradora.ipynb\" target=\"_parent\"><img src=\"https://colab.research.google.com/assets/colab-badge.svg\" alt=\"Open In Colab\"/></a>"
      ]
    },
    {
      "cell_type": "code",
      "metadata": {
        "id": "tDHfeRLfVv-_"
      },
      "source": [
        "import pandas as pd"
      ],
      "execution_count": 1,
      "outputs": []
    },
    {
      "cell_type": "code",
      "metadata": {
        "id": "OyVrPNINEQhQ"
      },
      "source": [
        "df = pd.read_csv(\"https://gist.githubusercontent.com/michhar/2dfd2de0d4f8727f873422c5d959fff5/raw/fa71405126017e6a37bea592440b4bee94bf7b9e/titanic.csv\")"
      ],
      "execution_count": 2,
      "outputs": []
    },
    {
      "cell_type": "markdown",
      "metadata": {
        "id": "pPRs6vRXH6CF"
      },
      "source": [
        "##Estrutura de um dataframe"
      ]
    },
    {
      "cell_type": "code",
      "metadata": {
        "id": "3xUIhtTsEa-N"
      },
      "source": [
        "df.head()"
      ],
      "execution_count": null,
      "outputs": []
    },
    {
      "cell_type": "code",
      "metadata": {
        "id": "hg7wXblLEiWd"
      },
      "source": [
        "df.info()"
      ],
      "execution_count": null,
      "outputs": []
    },
    {
      "cell_type": "markdown",
      "metadata": {
        "id": "XGeoN_hxIrE6"
      },
      "source": [
        "indice"
      ]
    },
    {
      "cell_type": "code",
      "metadata": {
        "colab": {
          "base_uri": "https://localhost:8080/"
        },
        "id": "w5OP_VTJIuLL",
        "outputId": "7b00829d-6818-47f8-be24-77d7e1612962"
      },
      "source": [
        "df.index"
      ],
      "execution_count": 7,
      "outputs": [
        {
          "output_type": "execute_result",
          "data": {
            "text/plain": [
              "RangeIndex(start=0, stop=891, step=1)"
            ]
          },
          "metadata": {
            "tags": []
          },
          "execution_count": 7
        }
      ]
    },
    {
      "cell_type": "markdown",
      "metadata": {
        "id": "auPLd0hpJhfZ"
      },
      "source": [
        "Alterando o índice do DataFrame"
      ]
    },
    {
      "cell_type": "code",
      "metadata": {
        "id": "jrlZMlDCJl_M"
      },
      "source": [
        "df.set_index('PassengerId', inplace=True)"
      ],
      "execution_count": 9,
      "outputs": []
    },
    {
      "cell_type": "code",
      "metadata": {
        "id": "yx1xbEDDKADn"
      },
      "source": [
        "df.head()"
      ],
      "execution_count": null,
      "outputs": []
    },
    {
      "cell_type": "markdown",
      "metadata": {
        "id": "Hi_mScp5KHDo"
      },
      "source": [
        "Colunas"
      ]
    },
    {
      "cell_type": "code",
      "metadata": {
        "id": "lF8KtMK7KJkB"
      },
      "source": [
        "df.columns"
      ],
      "execution_count": null,
      "outputs": []
    },
    {
      "cell_type": "markdown",
      "metadata": {
        "id": "rpfrTCR2KUvZ"
      },
      "source": [
        "Valores"
      ]
    },
    {
      "cell_type": "code",
      "metadata": {
        "id": "tJ8OU5kpKWYa"
      },
      "source": [
        "df.values"
      ],
      "execution_count": null,
      "outputs": []
    },
    {
      "cell_type": "markdown",
      "metadata": {
        "id": "GLwbc0DdKcsd"
      },
      "source": [
        "Internamente o Pandas trata dados como Arrays Numpy!"
      ]
    },
    {
      "cell_type": "code",
      "metadata": {
        "id": "h_Dp8otBKmp-"
      },
      "source": [
        "type(df.values)"
      ],
      "execution_count": null,
      "outputs": []
    },
    {
      "cell_type": "markdown",
      "metadata": {
        "id": "ZngRiCoxLW_M"
      },
      "source": [
        "**DataFrames e Séries**\n",
        "\n",
        "\n",
        "*   Métodos diferentes\n",
        "*   N dimensões\n",
        "\n"
      ]
    },
    {
      "cell_type": "markdown",
      "metadata": {
        "id": "sZ4WzIuSLwDl"
      },
      "source": [
        "Consultado dados"
      ]
    },
    {
      "cell_type": "markdown",
      "metadata": {
        "id": "CcWqmJlBLy-i"
      },
      "source": [
        "Selecionar linhas pelo índice de valor \"1\""
      ]
    },
    {
      "cell_type": "code",
      "metadata": {
        "id": "MRU1K3E6L7mM"
      },
      "source": [
        "df.loc[[1]]"
      ],
      "execution_count": null,
      "outputs": []
    },
    {
      "cell_type": "code",
      "metadata": {
        "id": "ngPE2cl2PUaV"
      },
      "source": [
        "df.loc[1]"
      ],
      "execution_count": null,
      "outputs": []
    },
    {
      "cell_type": "code",
      "metadata": {
        "id": "JV7AYY_WOH4E"
      },
      "source": [
        "df.iloc[[0]]"
      ],
      "execution_count": null,
      "outputs": []
    },
    {
      "cell_type": "code",
      "metadata": {
        "id": "3zzseunuL-_e"
      },
      "source": [
        "type(df.loc[1])"
      ],
      "execution_count": null,
      "outputs": []
    },
    {
      "cell_type": "markdown",
      "metadata": {
        "id": "0EAGG-CwMEB1"
      },
      "source": [
        "Selecionar várias linhas usando o loc"
      ]
    },
    {
      "cell_type": "code",
      "metadata": {
        "id": "yFf73CmlMIN-"
      },
      "source": [
        "df.loc[[1,2,3]]"
      ],
      "execution_count": null,
      "outputs": []
    },
    {
      "cell_type": "markdown",
      "metadata": {
        "id": "x_DqiddIPmC8"
      },
      "source": [
        "Consultando dados usando Slice"
      ]
    },
    {
      "cell_type": "code",
      "metadata": {
        "id": "X0rw64KhPtT3"
      },
      "source": [
        "df.loc[10:20]"
      ],
      "execution_count": null,
      "outputs": []
    },
    {
      "cell_type": "code",
      "metadata": {
        "id": "jUyBtzOCRXla"
      },
      "source": [
        "#step 2\n",
        "df.loc[10:20:2]"
      ],
      "execution_count": null,
      "outputs": []
    },
    {
      "cell_type": "code",
      "metadata": {
        "id": "iW2Y96CARgLU"
      },
      "source": [
        "df.loc[10:]"
      ],
      "execution_count": null,
      "outputs": []
    },
    {
      "cell_type": "markdown",
      "metadata": {
        "id": "C8znKP0IQQIB"
      },
      "source": [
        "Selecionando linhas e colunas o loc"
      ]
    },
    {
      "cell_type": "code",
      "metadata": {
        "id": "pDvgvtFLRqMc"
      },
      "source": [
        "#df.loc[[linha1,linha2],[\"coluna1\",\"coluna2\",\"coluna3\"]]\n",
        "df.loc[[1,2],[\"Name\",\"Sex\",\"Age\"]]"
      ],
      "execution_count": null,
      "outputs": []
    }
  ]
}